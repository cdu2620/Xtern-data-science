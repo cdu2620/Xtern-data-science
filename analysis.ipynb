{
 "cells": [
  {
   "cell_type": "code",
   "execution_count": 1,
   "metadata": {},
   "outputs": [],
   "source": [
    "import pandas as pd"
   ]
  },
  {
   "cell_type": "code",
   "execution_count": 2,
   "metadata": {},
   "outputs": [],
   "source": [
    "import seaborn as sns\n",
    "import matplotlib.pyplot as plt"
   ]
  },
  {
   "cell_type": "code",
   "execution_count": 3,
   "metadata": {},
   "outputs": [],
   "source": [
    "data = pd.read_csv('2020-XTern-DS.csv')"
   ]
  },
  {
   "cell_type": "code",
   "execution_count": 4,
   "metadata": {},
   "outputs": [
    {
     "data": {
      "text/html": [
       "<div>\n",
       "<style scoped>\n",
       "    .dataframe tbody tr th:only-of-type {\n",
       "        vertical-align: middle;\n",
       "    }\n",
       "\n",
       "    .dataframe tbody tr th {\n",
       "        vertical-align: top;\n",
       "    }\n",
       "\n",
       "    .dataframe thead th {\n",
       "        text-align: right;\n",
       "    }\n",
       "</style>\n",
       "<table border=\"1\" class=\"dataframe\">\n",
       "  <thead>\n",
       "    <tr style=\"text-align: right;\">\n",
       "      <th></th>\n",
       "      <th>Restaurant</th>\n",
       "      <th>Latitude</th>\n",
       "      <th>Longitude</th>\n",
       "      <th>Cuisines</th>\n",
       "      <th>Average_Cost</th>\n",
       "      <th>Minimum_Order</th>\n",
       "      <th>Rating</th>\n",
       "      <th>Votes</th>\n",
       "      <th>Reviews</th>\n",
       "      <th>Cook_Time</th>\n",
       "    </tr>\n",
       "  </thead>\n",
       "  <tbody>\n",
       "    <tr>\n",
       "      <th>0</th>\n",
       "      <td>ID_6321</td>\n",
       "      <td>39.262605</td>\n",
       "      <td>-85.837372</td>\n",
       "      <td>Fast Food, Rolls, Burger, Salad, Wraps</td>\n",
       "      <td>$20.00</td>\n",
       "      <td>$50.00</td>\n",
       "      <td>3.5</td>\n",
       "      <td>12</td>\n",
       "      <td>4</td>\n",
       "      <td>30 minutes</td>\n",
       "    </tr>\n",
       "    <tr>\n",
       "      <th>1</th>\n",
       "      <td>ID_2882</td>\n",
       "      <td>39.775933</td>\n",
       "      <td>-85.740581</td>\n",
       "      <td>Ice Cream, Desserts</td>\n",
       "      <td>$10.00</td>\n",
       "      <td>$50.00</td>\n",
       "      <td>3.5</td>\n",
       "      <td>11</td>\n",
       "      <td>4</td>\n",
       "      <td>30 minutes</td>\n",
       "    </tr>\n",
       "    <tr>\n",
       "      <th>2</th>\n",
       "      <td>ID_1595</td>\n",
       "      <td>39.253436</td>\n",
       "      <td>-85.123779</td>\n",
       "      <td>Italian, Street Food, Fast Food</td>\n",
       "      <td>$15.00</td>\n",
       "      <td>$50.00</td>\n",
       "      <td>3.6</td>\n",
       "      <td>99</td>\n",
       "      <td>30</td>\n",
       "      <td>65 minutes</td>\n",
       "    </tr>\n",
       "    <tr>\n",
       "      <th>3</th>\n",
       "      <td>ID_5929</td>\n",
       "      <td>39.029841</td>\n",
       "      <td>-85.332050</td>\n",
       "      <td>Mughlai, North Indian, Chinese</td>\n",
       "      <td>$25.00</td>\n",
       "      <td>$99.00</td>\n",
       "      <td>3.7</td>\n",
       "      <td>176</td>\n",
       "      <td>95</td>\n",
       "      <td>30 minutes</td>\n",
       "    </tr>\n",
       "    <tr>\n",
       "      <th>4</th>\n",
       "      <td>ID_6123</td>\n",
       "      <td>39.882284</td>\n",
       "      <td>-85.517407</td>\n",
       "      <td>Cafe, Beverages</td>\n",
       "      <td>$20.00</td>\n",
       "      <td>$99.00</td>\n",
       "      <td>3.2</td>\n",
       "      <td>521</td>\n",
       "      <td>235</td>\n",
       "      <td>65 minutes</td>\n",
       "    </tr>\n",
       "  </tbody>\n",
       "</table>\n",
       "</div>"
      ],
      "text/plain": [
       "  Restaurant   Latitude  Longitude                                Cuisines  \\\n",
       "0    ID_6321  39.262605 -85.837372  Fast Food, Rolls, Burger, Salad, Wraps   \n",
       "1    ID_2882  39.775933 -85.740581                     Ice Cream, Desserts   \n",
       "2    ID_1595  39.253436 -85.123779         Italian, Street Food, Fast Food   \n",
       "3    ID_5929  39.029841 -85.332050          Mughlai, North Indian, Chinese   \n",
       "4    ID_6123  39.882284 -85.517407                         Cafe, Beverages   \n",
       "\n",
       "  Average_Cost Minimum_Order Rating Votes Reviews   Cook_Time  \n",
       "0       $20.00        $50.00    3.5    12       4  30 minutes  \n",
       "1       $10.00        $50.00    3.5    11       4  30 minutes  \n",
       "2       $15.00        $50.00    3.6    99      30  65 minutes  \n",
       "3       $25.00        $99.00    3.7   176      95  30 minutes  \n",
       "4       $20.00        $99.00    3.2   521     235  65 minutes  "
      ]
     },
     "execution_count": 4,
     "metadata": {},
     "output_type": "execute_result"
    }
   ],
   "source": [
    "data.head()"
   ]
  },
  {
   "cell_type": "code",
   "execution_count": 5,
   "metadata": {},
   "outputs": [],
   "source": [
    "data['Minimum_Order'] = data['Minimum_Order'].replace('[\\$,]', '', regex=True).astype(float)"
   ]
  },
  {
   "cell_type": "code",
   "execution_count": 6,
   "metadata": {},
   "outputs": [],
   "source": [
    "''' Insight 1: Evaluating the best rated restaurants\n",
    "\n",
    "Did some data cleaning where I got rid of non-float values.\n",
    "\n",
    "'''\n",
    "\n",
    "only_ratings = data.loc[data['Rating'] != '-']"
   ]
  },
  {
   "cell_type": "code",
   "execution_count": 7,
   "metadata": {},
   "outputs": [],
   "source": [
    "only_ratings = only_ratings.loc[only_ratings['Rating'] != 'NEW']"
   ]
  },
  {
   "cell_type": "code",
   "execution_count": 8,
   "metadata": {},
   "outputs": [],
   "source": [
    "only_ratings = only_ratings.loc[only_ratings['Rating'] != 'Opening Soon']"
   ]
  },
  {
   "cell_type": "code",
   "execution_count": 9,
   "metadata": {},
   "outputs": [],
   "source": [
    "only_ratings['Rating'] = only_ratings['Rating'].astype(float)"
   ]
  },
  {
   "cell_type": "code",
   "execution_count": 10,
   "metadata": {},
   "outputs": [
    {
     "data": {
      "text/plain": [
       "3.6093037214885975"
      ]
     },
     "execution_count": 10,
     "metadata": {},
     "output_type": "execute_result"
    }
   ],
   "source": [
    "only_ratings['Rating'].mean()"
   ]
  },
  {
   "cell_type": "code",
   "execution_count": 11,
   "metadata": {},
   "outputs": [],
   "source": [
    "best_rated = only_ratings.loc[only_ratings['Rating'] >= 4.5]"
   ]
  },
  {
   "cell_type": "code",
   "execution_count": 12,
   "metadata": {},
   "outputs": [
    {
     "data": {
      "text/plain": [
       "<matplotlib.axes._subplots.AxesSubplot at 0x7fee73121250>"
      ]
     },
     "execution_count": 12,
     "metadata": {},
     "output_type": "execute_result"
    },
    {
     "data": {
      "image/png": "[encoded data removed]",
      "text/plain": [
       "<Figure size 1008x504 with 1 Axes>"
      ]
     },
     "metadata": {
      "needs_background": "light"
     },
     "output_type": "display_data"
    }
   ],
   "source": [
    "f, axis = plt.subplots(figsize=(14, 7))\n",
    "sns.countplot(x='Minimum_Order', data=best_rated)"
   ]
  },
  {
   "cell_type": "code",
   "execution_count": 13,
   "metadata": {},
   "outputs": [
    {
     "data": {
      "text/plain": [
       "55.93939393939394"
      ]
     },
     "execution_count": 13,
     "metadata": {},
     "output_type": "execute_result"
    }
   ],
   "source": [
    "best_rated['Minimum_Order'].mean()"
   ]
  },
  {
   "cell_type": "code",
   "execution_count": 14,
   "metadata": {},
   "outputs": [],
   "source": [
    "def ethnicity(x):\n",
    "    ethnicities = {'Asian': ['Chinese', 'Indian', 'Thai', 'Tibetan'], 'European': ['French', 'Italian', 'Pizza'], \n",
    "                   'American': ['Burger', 'Fast Food', 'Ice Cream', 'Desserts', 'Bakery']}\n",
    "    types = dict()\n",
    "    types[x] = []\n",
    "    for e, c in ethnicities.items():\n",
    "        if e in x:\n",
    "            types[x].append(e)\n",
    "        else:\n",
    "            for v in c:\n",
    "                if v in x:\n",
    "                    types[x].append(e)\n",
    "                    break\n",
    "    if len(types[x]) == 1:\n",
    "        return types[x][0]\n",
    "    else:\n",
    "        return \"Multicultural\"\n",
    "            "
   ]
  },
  {
   "cell_type": "code",
   "execution_count": 15,
   "metadata": {},
   "outputs": [
    {
     "name": "stderr",
     "output_type": "stream",
     "text": [
      "/Users/cdu2620/anaconda3/lib/python3.7/site-packages/ipykernel_launcher.py:2: SettingWithCopyWarning: \n",
      "A value is trying to be set on a copy of a slice from a DataFrame.\n",
      "Try using .loc[row_indexer,col_indexer] = value instead\n",
      "\n",
      "See the caveats in the documentation: https://pandas.pydata.org/pandas-docs/stable/user_guide/indexing.html#returning-a-view-versus-a-copy\n",
      "  \n"
     ]
    }
   ],
   "source": [
    "copy = best_rated\n",
    "copy['Ethnicity'] = copy['Cuisines'].apply(lambda x: ethnicity(x))"
   ]
  },
  {
   "cell_type": "code",
   "execution_count": 16,
   "metadata": {},
   "outputs": [
    {
     "data": {
      "text/plain": [
       "<matplotlib.axes._subplots.AxesSubplot at 0x7fee75872690>"
      ]
     },
     "execution_count": 16,
     "metadata": {},
     "output_type": "execute_result"
    },
    {
     "data": {
      "image/png": "[encoded data removed]",
      "text/plain": [
       "<Figure size 1008x504 with 1 Axes>"
      ]
     },
     "metadata": {
      "needs_background": "light"
     },
     "output_type": "display_data"
    }
   ],
   "source": [
    "f, axis = plt.subplots(figsize=(14, 7))\n",
    "sns.countplot(x='Ethnicity', data=best_rated)"
   ]
  },
  {
   "cell_type": "code",
   "execution_count": 17,
   "metadata": {},
   "outputs": [
    {
     "name": "stderr",
     "output_type": "stream",
     "text": [
      "/Users/cdu2620/anaconda3/lib/python3.7/site-packages/ipykernel_launcher.py:1: SettingWithCopyWarning: \n",
      "A value is trying to be set on a copy of a slice from a DataFrame.\n",
      "Try using .loc[row_indexer,col_indexer] = value instead\n",
      "\n",
      "See the caveats in the documentation: https://pandas.pydata.org/pandas-docs/stable/user_guide/indexing.html#returning-a-view-versus-a-copy\n",
      "  \"\"\"Entry point for launching an IPython kernel.\n"
     ]
    },
    {
     "data": {
      "text/plain": [
       "1283.121212121212"
      ]
     },
     "execution_count": 17,
     "metadata": {},
     "output_type": "execute_result"
    }
   ],
   "source": [
    "best_rated['Votes'] = best_rated['Votes'].astype(int)\n",
    "rating_vote = best_rated['Votes'].mean()\n",
    "rating_vote"
   ]
  },
  {
   "cell_type": "code",
   "execution_count": 18,
   "metadata": {},
   "outputs": [],
   "source": [
    "'''\n",
    "Insight 2: Evaluating trending restaurants by number of votes\n",
    "\n",
    "'''\n",
    "only_voted = data.loc[data['Votes'] != '-']"
   ]
  },
  {
   "cell_type": "code",
   "execution_count": 19,
   "metadata": {},
   "outputs": [
    {
     "name": "stderr",
     "output_type": "stream",
     "text": [
      "/Users/cdu2620/anaconda3/lib/python3.7/site-packages/ipykernel_launcher.py:1: SettingWithCopyWarning: \n",
      "A value is trying to be set on a copy of a slice from a DataFrame.\n",
      "Try using .loc[row_indexer,col_indexer] = value instead\n",
      "\n",
      "See the caveats in the documentation: https://pandas.pydata.org/pandas-docs/stable/user_guide/indexing.html#returning-a-view-versus-a-copy\n",
      "  \"\"\"Entry point for launching an IPython kernel.\n"
     ]
    }
   ],
   "source": [
    "only_voted['Votes'] = only_voted['Votes'].astype(int)"
   ]
  },
  {
   "cell_type": "code",
   "execution_count": 20,
   "metadata": {},
   "outputs": [
    {
     "data": {
      "text/html": [
       "<div>\n",
       "<style scoped>\n",
       "    .dataframe tbody tr th:only-of-type {\n",
       "        vertical-align: middle;\n",
       "    }\n",
       "\n",
       "    .dataframe tbody tr th {\n",
       "        vertical-align: top;\n",
       "    }\n",
       "\n",
       "    .dataframe thead th {\n",
       "        text-align: right;\n",
       "    }\n",
       "</style>\n",
       "<table border=\"1\" class=\"dataframe\">\n",
       "  <thead>\n",
       "    <tr style=\"text-align: right;\">\n",
       "      <th></th>\n",
       "      <th>Restaurant</th>\n",
       "      <th>Latitude</th>\n",
       "      <th>Longitude</th>\n",
       "      <th>Cuisines</th>\n",
       "      <th>Average_Cost</th>\n",
       "      <th>Minimum_Order</th>\n",
       "      <th>Rating</th>\n",
       "      <th>Votes</th>\n",
       "      <th>Reviews</th>\n",
       "      <th>Cook_Time</th>\n",
       "    </tr>\n",
       "  </thead>\n",
       "  <tbody>\n",
       "    <tr>\n",
       "      <th>80</th>\n",
       "      <td>ID_7753</td>\n",
       "      <td>39.571114</td>\n",
       "      <td>-85.069320</td>\n",
       "      <td>European, Continental, North Indian, Desserts</td>\n",
       "      <td>$75.00</td>\n",
       "      <td>50.0</td>\n",
       "      <td>4.3</td>\n",
       "      <td>3124</td>\n",
       "      <td>1660</td>\n",
       "      <td>45 minutes</td>\n",
       "    </tr>\n",
       "    <tr>\n",
       "      <th>123</th>\n",
       "      <td>ID_2885</td>\n",
       "      <td>39.543546</td>\n",
       "      <td>-85.186797</td>\n",
       "      <td>German, Italian, Cafe</td>\n",
       "      <td>$45.00</td>\n",
       "      <td>50.0</td>\n",
       "      <td>4.3</td>\n",
       "      <td>4691</td>\n",
       "      <td>2547</td>\n",
       "      <td>45 minutes</td>\n",
       "    </tr>\n",
       "    <tr>\n",
       "      <th>175</th>\n",
       "      <td>ID_4202</td>\n",
       "      <td>39.244727</td>\n",
       "      <td>-85.741670</td>\n",
       "      <td>Parsi, Bakery</td>\n",
       "      <td>$20.00</td>\n",
       "      <td>50.0</td>\n",
       "      <td>4.0</td>\n",
       "      <td>4335</td>\n",
       "      <td>2363</td>\n",
       "      <td>30 minutes</td>\n",
       "    </tr>\n",
       "    <tr>\n",
       "      <th>197</th>\n",
       "      <td>ID_2041</td>\n",
       "      <td>39.169006</td>\n",
       "      <td>-85.230237</td>\n",
       "      <td>Italian, Pizza, Salad, Healthy Food, Mexican, ...</td>\n",
       "      <td>$65.00</td>\n",
       "      <td>50.0</td>\n",
       "      <td>4.4</td>\n",
       "      <td>3248</td>\n",
       "      <td>1603</td>\n",
       "      <td>45 minutes</td>\n",
       "    </tr>\n",
       "    <tr>\n",
       "      <th>281</th>\n",
       "      <td>ID_4202</td>\n",
       "      <td>39.942907</td>\n",
       "      <td>-85.587784</td>\n",
       "      <td>Parsi, Bakery</td>\n",
       "      <td>$20.00</td>\n",
       "      <td>50.0</td>\n",
       "      <td>4.0</td>\n",
       "      <td>4335</td>\n",
       "      <td>2363</td>\n",
       "      <td>30 minutes</td>\n",
       "    </tr>\n",
       "    <tr>\n",
       "      <th>335</th>\n",
       "      <td>ID_1947</td>\n",
       "      <td>39.092982</td>\n",
       "      <td>-85.673167</td>\n",
       "      <td>Bar Food, North Indian, Italian, Continental</td>\n",
       "      <td>$55.00</td>\n",
       "      <td>50.0</td>\n",
       "      <td>4.3</td>\n",
       "      <td>3394</td>\n",
       "      <td>1845</td>\n",
       "      <td>30 minutes</td>\n",
       "    </tr>\n",
       "    <tr>\n",
       "      <th>732</th>\n",
       "      <td>ID_8087</td>\n",
       "      <td>39.729100</td>\n",
       "      <td>-85.422667</td>\n",
       "      <td>Chinese, Thai, Asian, Malaysian, Vietnamese, S...</td>\n",
       "      <td>$60.00</td>\n",
       "      <td>99.0</td>\n",
       "      <td>4.2</td>\n",
       "      <td>3782</td>\n",
       "      <td>1948</td>\n",
       "      <td>30 minutes</td>\n",
       "    </tr>\n",
       "    <tr>\n",
       "      <th>770</th>\n",
       "      <td>ID_847</td>\n",
       "      <td>39.446138</td>\n",
       "      <td>-85.139694</td>\n",
       "      <td>North Indian, Street Food, South Indian, Mithai</td>\n",
       "      <td>$30.00</td>\n",
       "      <td>99.0</td>\n",
       "      <td>4.2</td>\n",
       "      <td>3021</td>\n",
       "      <td>1174</td>\n",
       "      <td>65 minutes</td>\n",
       "    </tr>\n",
       "    <tr>\n",
       "      <th>1180</th>\n",
       "      <td>ID_1064</td>\n",
       "      <td>39.587777</td>\n",
       "      <td>-85.564805</td>\n",
       "      <td>Continental, North Indian, BBQ, Steak</td>\n",
       "      <td>$80.00</td>\n",
       "      <td>50.0</td>\n",
       "      <td>4.7</td>\n",
       "      <td>9054</td>\n",
       "      <td>6504</td>\n",
       "      <td>45 minutes</td>\n",
       "    </tr>\n",
       "    <tr>\n",
       "      <th>1300</th>\n",
       "      <td>ID_1666</td>\n",
       "      <td>39.959980</td>\n",
       "      <td>-85.903329</td>\n",
       "      <td>Mexican, American, Italian, Burger</td>\n",
       "      <td>$50.00</td>\n",
       "      <td>99.0</td>\n",
       "      <td>4.6</td>\n",
       "      <td>4903</td>\n",
       "      <td>3989</td>\n",
       "      <td>65 minutes</td>\n",
       "    </tr>\n",
       "    <tr>\n",
       "      <th>1428</th>\n",
       "      <td>ID_2051</td>\n",
       "      <td>39.759886</td>\n",
       "      <td>-85.500507</td>\n",
       "      <td>Italian, Continental, Chinese, Mexican, Fast F...</td>\n",
       "      <td>$30.00</td>\n",
       "      <td>50.0</td>\n",
       "      <td>4.7</td>\n",
       "      <td>3975</td>\n",
       "      <td>2359</td>\n",
       "      <td>65 minutes</td>\n",
       "    </tr>\n",
       "    <tr>\n",
       "      <th>1570</th>\n",
       "      <td>ID_13</td>\n",
       "      <td>39.105630</td>\n",
       "      <td>-85.719512</td>\n",
       "      <td>Continental, North Indian, Seafood, Cafe, Sala...</td>\n",
       "      <td>$65.00</td>\n",
       "      <td>50.0</td>\n",
       "      <td>4.1</td>\n",
       "      <td>3860</td>\n",
       "      <td>1962</td>\n",
       "      <td>45 minutes</td>\n",
       "    </tr>\n",
       "    <tr>\n",
       "      <th>1780</th>\n",
       "      <td>ID_2601</td>\n",
       "      <td>39.560512</td>\n",
       "      <td>-85.826137</td>\n",
       "      <td>Bakery, Desserts, Sandwich</td>\n",
       "      <td>$15.00</td>\n",
       "      <td>50.0</td>\n",
       "      <td>4.1</td>\n",
       "      <td>4606</td>\n",
       "      <td>2311</td>\n",
       "      <td>45 minutes</td>\n",
       "    </tr>\n",
       "    <tr>\n",
       "      <th>1796</th>\n",
       "      <td>ID_6511</td>\n",
       "      <td>39.199394</td>\n",
       "      <td>-85.529664</td>\n",
       "      <td>Street Food, Beverages</td>\n",
       "      <td>$10.00</td>\n",
       "      <td>50.0</td>\n",
       "      <td>3.9</td>\n",
       "      <td>4438</td>\n",
       "      <td>2576</td>\n",
       "      <td>45 minutes</td>\n",
       "    </tr>\n",
       "    <tr>\n",
       "      <th>1829</th>\n",
       "      <td>ID_4606</td>\n",
       "      <td>39.472608</td>\n",
       "      <td>-85.418186</td>\n",
       "      <td>Fast Food, Desserts, Beverages</td>\n",
       "      <td>$15.00</td>\n",
       "      <td>50.0</td>\n",
       "      <td>4.1</td>\n",
       "      <td>3535</td>\n",
       "      <td>1631</td>\n",
       "      <td>30 minutes</td>\n",
       "    </tr>\n",
       "  </tbody>\n",
       "</table>\n",
       "</div>"
      ],
      "text/plain": [
       "     Restaurant   Latitude  Longitude  \\\n",
       "80      ID_7753  39.571114 -85.069320   \n",
       "123     ID_2885  39.543546 -85.186797   \n",
       "175     ID_4202  39.244727 -85.741670   \n",
       "197     ID_2041  39.169006 -85.230237   \n",
       "281     ID_4202  39.942907 -85.587784   \n",
       "335     ID_1947  39.092982 -85.673167   \n",
       "732     ID_8087  39.729100 -85.422667   \n",
       "770      ID_847  39.446138 -85.139694   \n",
       "1180    ID_1064  39.587777 -85.564805   \n",
       "1300    ID_1666  39.959980 -85.903329   \n",
       "1428    ID_2051  39.759886 -85.500507   \n",
       "1570      ID_13  39.105630 -85.719512   \n",
       "1780    ID_2601  39.560512 -85.826137   \n",
       "1796    ID_6511  39.199394 -85.529664   \n",
       "1829    ID_4606  39.472608 -85.418186   \n",
       "\n",
       "                                               Cuisines Average_Cost  \\\n",
       "80        European, Continental, North Indian, Desserts       $75.00   \n",
       "123                               German, Italian, Cafe       $45.00   \n",
       "175                                       Parsi, Bakery       $20.00   \n",
       "197   Italian, Pizza, Salad, Healthy Food, Mexican, ...       $65.00   \n",
       "281                                       Parsi, Bakery       $20.00   \n",
       "335        Bar Food, North Indian, Italian, Continental       $55.00   \n",
       "732   Chinese, Thai, Asian, Malaysian, Vietnamese, S...       $60.00   \n",
       "770     North Indian, Street Food, South Indian, Mithai       $30.00   \n",
       "1180              Continental, North Indian, BBQ, Steak       $80.00   \n",
       "1300                 Mexican, American, Italian, Burger       $50.00   \n",
       "1428  Italian, Continental, Chinese, Mexican, Fast F...       $30.00   \n",
       "1570  Continental, North Indian, Seafood, Cafe, Sala...       $65.00   \n",
       "1780                         Bakery, Desserts, Sandwich       $15.00   \n",
       "1796                             Street Food, Beverages       $10.00   \n",
       "1829                     Fast Food, Desserts, Beverages       $15.00   \n",
       "\n",
       "      Minimum_Order Rating  Votes Reviews   Cook_Time  \n",
       "80             50.0    4.3   3124    1660  45 minutes  \n",
       "123            50.0    4.3   4691    2547  45 minutes  \n",
       "175            50.0    4.0   4335    2363  30 minutes  \n",
       "197            50.0    4.4   3248    1603  45 minutes  \n",
       "281            50.0    4.0   4335    2363  30 minutes  \n",
       "335            50.0    4.3   3394    1845  30 minutes  \n",
       "732            99.0    4.2   3782    1948  30 minutes  \n",
       "770            99.0    4.2   3021    1174  65 minutes  \n",
       "1180           50.0    4.7   9054    6504  45 minutes  \n",
       "1300           99.0    4.6   4903    3989  65 minutes  \n",
       "1428           50.0    4.7   3975    2359  65 minutes  \n",
       "1570           50.0    4.1   3860    1962  45 minutes  \n",
       "1780           50.0    4.1   4606    2311  45 minutes  \n",
       "1796           50.0    3.9   4438    2576  45 minutes  \n",
       "1829           50.0    4.1   3535    1631  30 minutes  "
      ]
     },
     "execution_count": 20,
     "metadata": {},
     "output_type": "execute_result"
    }
   ],
   "source": [
    "best_voted = only_voted.loc[only_voted['Votes'] >= 3000]\n",
    "best_voted"
   ]
  },
  {
   "cell_type": "code",
   "execution_count": 21,
   "metadata": {},
   "outputs": [
    {
     "data": {
      "text/plain": [
       "<matplotlib.axes._subplots.AxesSubplot at 0x7fee75943f90>"
      ]
     },
     "execution_count": 21,
     "metadata": {},
     "output_type": "execute_result"
    },
    {
     "data": {
      "image/png": "[encoded data removed]",
      "text/plain": [
       "<Figure size 1008x504 with 1 Axes>"
      ]
     },
     "metadata": {
      "needs_background": "light"
     },
     "output_type": "display_data"
    }
   ],
   "source": [
    "f, axis = plt.subplots(figsize=(14, 7))\n",
    "sns.countplot(x='Minimum_Order', data=best_voted)"
   ]
  },
  {
   "cell_type": "code",
   "execution_count": 24,
   "metadata": {},
   "outputs": [
    {
     "data": {
      "text/plain": [
       "59.8"
      ]
     },
     "execution_count": 24,
     "metadata": {},
     "output_type": "execute_result"
    }
   ],
   "source": [
    "#best_voted['Average_Cost'] = best_voted['Average_Cost'].replace('[\\$,]', '', regex=True).astype(float)\n",
    "best_voted['Minimum_Order'].mean()"
   ]
  },
  {
   "cell_type": "code",
   "execution_count": 22,
   "metadata": {},
   "outputs": [
    {
     "name": "stderr",
     "output_type": "stream",
     "text": [
      "/Users/cdu2620/anaconda3/lib/python3.7/site-packages/ipykernel_launcher.py:1: SettingWithCopyWarning: \n",
      "A value is trying to be set on a copy of a slice from a DataFrame.\n",
      "Try using .loc[row_indexer,col_indexer] = value instead\n",
      "\n",
      "See the caveats in the documentation: https://pandas.pydata.org/pandas-docs/stable/user_guide/indexing.html#returning-a-view-versus-a-copy\n",
      "  \"\"\"Entry point for launching an IPython kernel.\n"
     ]
    },
    {
     "data": {
      "text/html": [
       "<div>\n",
       "<style scoped>\n",
       "    .dataframe tbody tr th:only-of-type {\n",
       "        vertical-align: middle;\n",
       "    }\n",
       "\n",
       "    .dataframe tbody tr th {\n",
       "        vertical-align: top;\n",
       "    }\n",
       "\n",
       "    .dataframe thead th {\n",
       "        text-align: right;\n",
       "    }\n",
       "</style>\n",
       "<table border=\"1\" class=\"dataframe\">\n",
       "  <thead>\n",
       "    <tr style=\"text-align: right;\">\n",
       "      <th></th>\n",
       "      <th>Restaurant</th>\n",
       "      <th>Latitude</th>\n",
       "      <th>Longitude</th>\n",
       "      <th>Cuisines</th>\n",
       "      <th>Average_Cost</th>\n",
       "      <th>Minimum_Order</th>\n",
       "      <th>Rating</th>\n",
       "      <th>Votes</th>\n",
       "      <th>Reviews</th>\n",
       "      <th>Cook_Time</th>\n",
       "      <th>Ethnicity</th>\n",
       "    </tr>\n",
       "  </thead>\n",
       "  <tbody>\n",
       "    <tr>\n",
       "      <th>80</th>\n",
       "      <td>ID_7753</td>\n",
       "      <td>39.571114</td>\n",
       "      <td>-85.069320</td>\n",
       "      <td>European, Continental, North Indian, Desserts</td>\n",
       "      <td>$75.00</td>\n",
       "      <td>50.0</td>\n",
       "      <td>4.3</td>\n",
       "      <td>3124</td>\n",
       "      <td>1660</td>\n",
       "      <td>45 minutes</td>\n",
       "      <td>Multicultural</td>\n",
       "    </tr>\n",
       "    <tr>\n",
       "      <th>123</th>\n",
       "      <td>ID_2885</td>\n",
       "      <td>39.543546</td>\n",
       "      <td>-85.186797</td>\n",
       "      <td>German, Italian, Cafe</td>\n",
       "      <td>$45.00</td>\n",
       "      <td>50.0</td>\n",
       "      <td>4.3</td>\n",
       "      <td>4691</td>\n",
       "      <td>2547</td>\n",
       "      <td>45 minutes</td>\n",
       "      <td>European</td>\n",
       "    </tr>\n",
       "    <tr>\n",
       "      <th>175</th>\n",
       "      <td>ID_4202</td>\n",
       "      <td>39.244727</td>\n",
       "      <td>-85.741670</td>\n",
       "      <td>Parsi, Bakery</td>\n",
       "      <td>$20.00</td>\n",
       "      <td>50.0</td>\n",
       "      <td>4.0</td>\n",
       "      <td>4335</td>\n",
       "      <td>2363</td>\n",
       "      <td>30 minutes</td>\n",
       "      <td>American</td>\n",
       "    </tr>\n",
       "    <tr>\n",
       "      <th>197</th>\n",
       "      <td>ID_2041</td>\n",
       "      <td>39.169006</td>\n",
       "      <td>-85.230237</td>\n",
       "      <td>Italian, Pizza, Salad, Healthy Food, Mexican, ...</td>\n",
       "      <td>$65.00</td>\n",
       "      <td>50.0</td>\n",
       "      <td>4.4</td>\n",
       "      <td>3248</td>\n",
       "      <td>1603</td>\n",
       "      <td>45 minutes</td>\n",
       "      <td>Multicultural</td>\n",
       "    </tr>\n",
       "    <tr>\n",
       "      <th>281</th>\n",
       "      <td>ID_4202</td>\n",
       "      <td>39.942907</td>\n",
       "      <td>-85.587784</td>\n",
       "      <td>Parsi, Bakery</td>\n",
       "      <td>$20.00</td>\n",
       "      <td>50.0</td>\n",
       "      <td>4.0</td>\n",
       "      <td>4335</td>\n",
       "      <td>2363</td>\n",
       "      <td>30 minutes</td>\n",
       "      <td>American</td>\n",
       "    </tr>\n",
       "    <tr>\n",
       "      <th>335</th>\n",
       "      <td>ID_1947</td>\n",
       "      <td>39.092982</td>\n",
       "      <td>-85.673167</td>\n",
       "      <td>Bar Food, North Indian, Italian, Continental</td>\n",
       "      <td>$55.00</td>\n",
       "      <td>50.0</td>\n",
       "      <td>4.3</td>\n",
       "      <td>3394</td>\n",
       "      <td>1845</td>\n",
       "      <td>30 minutes</td>\n",
       "      <td>Multicultural</td>\n",
       "    </tr>\n",
       "    <tr>\n",
       "      <th>732</th>\n",
       "      <td>ID_8087</td>\n",
       "      <td>39.729100</td>\n",
       "      <td>-85.422667</td>\n",
       "      <td>Chinese, Thai, Asian, Malaysian, Vietnamese, S...</td>\n",
       "      <td>$60.00</td>\n",
       "      <td>99.0</td>\n",
       "      <td>4.2</td>\n",
       "      <td>3782</td>\n",
       "      <td>1948</td>\n",
       "      <td>30 minutes</td>\n",
       "      <td>Asian</td>\n",
       "    </tr>\n",
       "    <tr>\n",
       "      <th>770</th>\n",
       "      <td>ID_847</td>\n",
       "      <td>39.446138</td>\n",
       "      <td>-85.139694</td>\n",
       "      <td>North Indian, Street Food, South Indian, Mithai</td>\n",
       "      <td>$30.00</td>\n",
       "      <td>99.0</td>\n",
       "      <td>4.2</td>\n",
       "      <td>3021</td>\n",
       "      <td>1174</td>\n",
       "      <td>65 minutes</td>\n",
       "      <td>Asian</td>\n",
       "    </tr>\n",
       "    <tr>\n",
       "      <th>1180</th>\n",
       "      <td>ID_1064</td>\n",
       "      <td>39.587777</td>\n",
       "      <td>-85.564805</td>\n",
       "      <td>Continental, North Indian, BBQ, Steak</td>\n",
       "      <td>$80.00</td>\n",
       "      <td>50.0</td>\n",
       "      <td>4.7</td>\n",
       "      <td>9054</td>\n",
       "      <td>6504</td>\n",
       "      <td>45 minutes</td>\n",
       "      <td>Asian</td>\n",
       "    </tr>\n",
       "    <tr>\n",
       "      <th>1300</th>\n",
       "      <td>ID_1666</td>\n",
       "      <td>39.959980</td>\n",
       "      <td>-85.903329</td>\n",
       "      <td>Mexican, American, Italian, Burger</td>\n",
       "      <td>$50.00</td>\n",
       "      <td>99.0</td>\n",
       "      <td>4.6</td>\n",
       "      <td>4903</td>\n",
       "      <td>3989</td>\n",
       "      <td>65 minutes</td>\n",
       "      <td>Multicultural</td>\n",
       "    </tr>\n",
       "    <tr>\n",
       "      <th>1428</th>\n",
       "      <td>ID_2051</td>\n",
       "      <td>39.759886</td>\n",
       "      <td>-85.500507</td>\n",
       "      <td>Italian, Continental, Chinese, Mexican, Fast F...</td>\n",
       "      <td>$30.00</td>\n",
       "      <td>50.0</td>\n",
       "      <td>4.7</td>\n",
       "      <td>3975</td>\n",
       "      <td>2359</td>\n",
       "      <td>65 minutes</td>\n",
       "      <td>Multicultural</td>\n",
       "    </tr>\n",
       "    <tr>\n",
       "      <th>1570</th>\n",
       "      <td>ID_13</td>\n",
       "      <td>39.105630</td>\n",
       "      <td>-85.719512</td>\n",
       "      <td>Continental, North Indian, Seafood, Cafe, Sala...</td>\n",
       "      <td>$65.00</td>\n",
       "      <td>50.0</td>\n",
       "      <td>4.1</td>\n",
       "      <td>3860</td>\n",
       "      <td>1962</td>\n",
       "      <td>45 minutes</td>\n",
       "      <td>Asian</td>\n",
       "    </tr>\n",
       "    <tr>\n",
       "      <th>1780</th>\n",
       "      <td>ID_2601</td>\n",
       "      <td>39.560512</td>\n",
       "      <td>-85.826137</td>\n",
       "      <td>Bakery, Desserts, Sandwich</td>\n",
       "      <td>$15.00</td>\n",
       "      <td>50.0</td>\n",
       "      <td>4.1</td>\n",
       "      <td>4606</td>\n",
       "      <td>2311</td>\n",
       "      <td>45 minutes</td>\n",
       "      <td>American</td>\n",
       "    </tr>\n",
       "    <tr>\n",
       "      <th>1796</th>\n",
       "      <td>ID_6511</td>\n",
       "      <td>39.199394</td>\n",
       "      <td>-85.529664</td>\n",
       "      <td>Street Food, Beverages</td>\n",
       "      <td>$10.00</td>\n",
       "      <td>50.0</td>\n",
       "      <td>3.9</td>\n",
       "      <td>4438</td>\n",
       "      <td>2576</td>\n",
       "      <td>45 minutes</td>\n",
       "      <td>Multicultural</td>\n",
       "    </tr>\n",
       "    <tr>\n",
       "      <th>1829</th>\n",
       "      <td>ID_4606</td>\n",
       "      <td>39.472608</td>\n",
       "      <td>-85.418186</td>\n",
       "      <td>Fast Food, Desserts, Beverages</td>\n",
       "      <td>$15.00</td>\n",
       "      <td>50.0</td>\n",
       "      <td>4.1</td>\n",
       "      <td>3535</td>\n",
       "      <td>1631</td>\n",
       "      <td>30 minutes</td>\n",
       "      <td>American</td>\n",
       "    </tr>\n",
       "  </tbody>\n",
       "</table>\n",
       "</div>"
      ],
      "text/plain": [
       "     Restaurant   Latitude  Longitude  \\\n",
       "80      ID_7753  39.571114 -85.069320   \n",
       "123     ID_2885  39.543546 -85.186797   \n",
       "175     ID_4202  39.244727 -85.741670   \n",
       "197     ID_2041  39.169006 -85.230237   \n",
       "281     ID_4202  39.942907 -85.587784   \n",
       "335     ID_1947  39.092982 -85.673167   \n",
       "732     ID_8087  39.729100 -85.422667   \n",
       "770      ID_847  39.446138 -85.139694   \n",
       "1180    ID_1064  39.587777 -85.564805   \n",
       "1300    ID_1666  39.959980 -85.903329   \n",
       "1428    ID_2051  39.759886 -85.500507   \n",
       "1570      ID_13  39.105630 -85.719512   \n",
       "1780    ID_2601  39.560512 -85.826137   \n",
       "1796    ID_6511  39.199394 -85.529664   \n",
       "1829    ID_4606  39.472608 -85.418186   \n",
       "\n",
       "                                               Cuisines Average_Cost  \\\n",
       "80        European, Continental, North Indian, Desserts       $75.00   \n",
       "123                               German, Italian, Cafe       $45.00   \n",
       "175                                       Parsi, Bakery       $20.00   \n",
       "197   Italian, Pizza, Salad, Healthy Food, Mexican, ...       $65.00   \n",
       "281                                       Parsi, Bakery       $20.00   \n",
       "335        Bar Food, North Indian, Italian, Continental       $55.00   \n",
       "732   Chinese, Thai, Asian, Malaysian, Vietnamese, S...       $60.00   \n",
       "770     North Indian, Street Food, South Indian, Mithai       $30.00   \n",
       "1180              Continental, North Indian, BBQ, Steak       $80.00   \n",
       "1300                 Mexican, American, Italian, Burger       $50.00   \n",
       "1428  Italian, Continental, Chinese, Mexican, Fast F...       $30.00   \n",
       "1570  Continental, North Indian, Seafood, Cafe, Sala...       $65.00   \n",
       "1780                         Bakery, Desserts, Sandwich       $15.00   \n",
       "1796                             Street Food, Beverages       $10.00   \n",
       "1829                     Fast Food, Desserts, Beverages       $15.00   \n",
       "\n",
       "      Minimum_Order Rating  Votes Reviews   Cook_Time      Ethnicity  \n",
       "80             50.0    4.3   3124    1660  45 minutes  Multicultural  \n",
       "123            50.0    4.3   4691    2547  45 minutes       European  \n",
       "175            50.0    4.0   4335    2363  30 minutes       American  \n",
       "197            50.0    4.4   3248    1603  45 minutes  Multicultural  \n",
       "281            50.0    4.0   4335    2363  30 minutes       American  \n",
       "335            50.0    4.3   3394    1845  30 minutes  Multicultural  \n",
       "732            99.0    4.2   3782    1948  30 minutes          Asian  \n",
       "770            99.0    4.2   3021    1174  65 minutes          Asian  \n",
       "1180           50.0    4.7   9054    6504  45 minutes          Asian  \n",
       "1300           99.0    4.6   4903    3989  65 minutes  Multicultural  \n",
       "1428           50.0    4.7   3975    2359  65 minutes  Multicultural  \n",
       "1570           50.0    4.1   3860    1962  45 minutes          Asian  \n",
       "1780           50.0    4.1   4606    2311  45 minutes       American  \n",
       "1796           50.0    3.9   4438    2576  45 minutes  Multicultural  \n",
       "1829           50.0    4.1   3535    1631  30 minutes       American  "
      ]
     },
     "execution_count": 22,
     "metadata": {},
     "output_type": "execute_result"
    }
   ],
   "source": [
    "best_voted['Ethnicity'] = best_voted['Cuisines'].apply(lambda x: ethnicity(x))\n",
    "best_voted"
   ]
  },
  {
   "cell_type": "code",
   "execution_count": 23,
   "metadata": {},
   "outputs": [
    {
     "data": {
      "text/plain": [
       "<matplotlib.axes._subplots.AxesSubplot at 0x7fee755bc7d0>"
      ]
     },
     "execution_count": 23,
     "metadata": {},
     "output_type": "execute_result"
    },
    {
     "data": {
      "image/png": "[encoded data removed]",
      "text/plain": [
       "<Figure size 1008x504 with 1 Axes>"
      ]
     },
     "metadata": {
      "needs_background": "light"
     },
     "output_type": "display_data"
    }
   ],
   "source": [
    "f, axis = plt.subplots(figsize=(14, 7))\n",
    "sns.countplot(x='Ethnicity', data=best_voted)"
   ]
  },
  {
   "cell_type": "code",
   "execution_count": 25,
   "metadata": {},
   "outputs": [
    {
     "name": "stderr",
     "output_type": "stream",
     "text": [
      "/Users/cdu2620/anaconda3/lib/python3.7/site-packages/ipykernel_launcher.py:1: SettingWithCopyWarning: \n",
      "A value is trying to be set on a copy of a slice from a DataFrame.\n",
      "Try using .loc[row_indexer,col_indexer] = value instead\n",
      "\n",
      "See the caveats in the documentation: https://pandas.pydata.org/pandas-docs/stable/user_guide/indexing.html#returning-a-view-versus-a-copy\n",
      "  \"\"\"Entry point for launching an IPython kernel.\n"
     ]
    },
    {
     "data": {
      "text/plain": [
       "4.260000000000001"
      ]
     },
     "execution_count": 25,
     "metadata": {},
     "output_type": "execute_result"
    }
   ],
   "source": [
    "best_voted['Rating'] = best_voted['Rating'].astype(float)\n",
    "vote_rating = best_voted['Rating'].mean()\n",
    "vote_rating"
   ]
  },
  {
   "cell_type": "code",
   "execution_count": 26,
   "metadata": {},
   "outputs": [],
   "source": [
    "'''Insight 3: Seeing if restaurants with fast cook times suffer impacts in quality of food'''\n",
    "\n",
    "def minutes(s):\n",
    "    return int(s.split(' ')[0])\n",
    "\n",
    "data['Cook_Time'] = data['Cook_Time'].apply(lambda x: minutes(x))"
   ]
  },
  {
   "cell_type": "code",
   "execution_count": 27,
   "metadata": {},
   "outputs": [
    {
     "data": {
      "text/plain": [
       "36.92174343734522"
      ]
     },
     "execution_count": 27,
     "metadata": {},
     "output_type": "execute_result"
    }
   ],
   "source": [
    "data['Cook_Time'].mean()"
   ]
  },
  {
   "cell_type": "code",
   "execution_count": 28,
   "metadata": {},
   "outputs": [],
   "source": [
    "fastest = data.loc[data['Cook_Time'] <= 30]"
   ]
  },
  {
   "cell_type": "code",
   "execution_count": 29,
   "metadata": {},
   "outputs": [
    {
     "data": {
      "text/html": [
       "<div>\n",
       "<style scoped>\n",
       "    .dataframe tbody tr th:only-of-type {\n",
       "        vertical-align: middle;\n",
       "    }\n",
       "\n",
       "    .dataframe tbody tr th {\n",
       "        vertical-align: top;\n",
       "    }\n",
       "\n",
       "    .dataframe thead th {\n",
       "        text-align: right;\n",
       "    }\n",
       "</style>\n",
       "<table border=\"1\" class=\"dataframe\">\n",
       "  <thead>\n",
       "    <tr style=\"text-align: right;\">\n",
       "      <th></th>\n",
       "      <th>Restaurant</th>\n",
       "      <th>Latitude</th>\n",
       "      <th>Longitude</th>\n",
       "      <th>Cuisines</th>\n",
       "      <th>Average_Cost</th>\n",
       "      <th>Minimum_Order</th>\n",
       "      <th>Rating</th>\n",
       "      <th>Votes</th>\n",
       "      <th>Reviews</th>\n",
       "      <th>Cook_Time</th>\n",
       "    </tr>\n",
       "  </thead>\n",
       "  <tbody>\n",
       "    <tr>\n",
       "      <th>0</th>\n",
       "      <td>ID_6321</td>\n",
       "      <td>39.262605</td>\n",
       "      <td>-85.837372</td>\n",
       "      <td>Fast Food, Rolls, Burger, Salad, Wraps</td>\n",
       "      <td>$20.00</td>\n",
       "      <td>50.0</td>\n",
       "      <td>3.5</td>\n",
       "      <td>12</td>\n",
       "      <td>4</td>\n",
       "      <td>30</td>\n",
       "    </tr>\n",
       "    <tr>\n",
       "      <th>1</th>\n",
       "      <td>ID_2882</td>\n",
       "      <td>39.775933</td>\n",
       "      <td>-85.740581</td>\n",
       "      <td>Ice Cream, Desserts</td>\n",
       "      <td>$10.00</td>\n",
       "      <td>50.0</td>\n",
       "      <td>3.5</td>\n",
       "      <td>11</td>\n",
       "      <td>4</td>\n",
       "      <td>30</td>\n",
       "    </tr>\n",
       "    <tr>\n",
       "      <th>3</th>\n",
       "      <td>ID_5929</td>\n",
       "      <td>39.029841</td>\n",
       "      <td>-85.332050</td>\n",
       "      <td>Mughlai, North Indian, Chinese</td>\n",
       "      <td>$25.00</td>\n",
       "      <td>99.0</td>\n",
       "      <td>3.7</td>\n",
       "      <td>176</td>\n",
       "      <td>95</td>\n",
       "      <td>30</td>\n",
       "    </tr>\n",
       "    <tr>\n",
       "      <th>5</th>\n",
       "      <td>ID_5221</td>\n",
       "      <td>39.370441</td>\n",
       "      <td>-85.739516</td>\n",
       "      <td>South Indian, North Indian, Chinese</td>\n",
       "      <td>$15.00</td>\n",
       "      <td>50.0</td>\n",
       "      <td>3.8</td>\n",
       "      <td>46</td>\n",
       "      <td>18</td>\n",
       "      <td>30</td>\n",
       "    </tr>\n",
       "    <tr>\n",
       "      <th>6</th>\n",
       "      <td>ID_3777</td>\n",
       "      <td>39.821806</td>\n",
       "      <td>-85.005577</td>\n",
       "      <td>Beverages, Fast Food</td>\n",
       "      <td>$15.00</td>\n",
       "      <td>50.0</td>\n",
       "      <td>3.7</td>\n",
       "      <td>108</td>\n",
       "      <td>31</td>\n",
       "      <td>30</td>\n",
       "    </tr>\n",
       "    <tr>\n",
       "      <th>...</th>\n",
       "      <td>...</td>\n",
       "      <td>...</td>\n",
       "      <td>...</td>\n",
       "      <td>...</td>\n",
       "      <td>...</td>\n",
       "      <td>...</td>\n",
       "      <td>...</td>\n",
       "      <td>...</td>\n",
       "      <td>...</td>\n",
       "      <td>...</td>\n",
       "    </tr>\n",
       "    <tr>\n",
       "      <th>2013</th>\n",
       "      <td>ID_5794</td>\n",
       "      <td>39.764745</td>\n",
       "      <td>-85.121567</td>\n",
       "      <td>Bengali</td>\n",
       "      <td>$20.00</td>\n",
       "      <td>50.0</td>\n",
       "      <td>3.3</td>\n",
       "      <td>16</td>\n",
       "      <td>6</td>\n",
       "      <td>30</td>\n",
       "    </tr>\n",
       "    <tr>\n",
       "      <th>2014</th>\n",
       "      <td>ID_4366</td>\n",
       "      <td>39.624978</td>\n",
       "      <td>-85.189212</td>\n",
       "      <td>North Indian, Pizza, Burger, Continental</td>\n",
       "      <td>$40.00</td>\n",
       "      <td>0.0</td>\n",
       "      <td>-</td>\n",
       "      <td>-</td>\n",
       "      <td>-</td>\n",
       "      <td>30</td>\n",
       "    </tr>\n",
       "    <tr>\n",
       "      <th>2015</th>\n",
       "      <td>ID_319</td>\n",
       "      <td>39.133719</td>\n",
       "      <td>-85.503020</td>\n",
       "      <td>Awadhi, Bihari</td>\n",
       "      <td>$40.00</td>\n",
       "      <td>99.0</td>\n",
       "      <td>4.1</td>\n",
       "      <td>118</td>\n",
       "      <td>91</td>\n",
       "      <td>30</td>\n",
       "    </tr>\n",
       "    <tr>\n",
       "      <th>2016</th>\n",
       "      <td>ID_3104</td>\n",
       "      <td>39.662987</td>\n",
       "      <td>-85.950894</td>\n",
       "      <td>Fast Food, Beverages</td>\n",
       "      <td>$10.00</td>\n",
       "      <td>50.0</td>\n",
       "      <td>NEW</td>\n",
       "      <td>-</td>\n",
       "      <td>-</td>\n",
       "      <td>30</td>\n",
       "    </tr>\n",
       "    <tr>\n",
       "      <th>2017</th>\n",
       "      <td>ID_4396</td>\n",
       "      <td>39.301765</td>\n",
       "      <td>-85.662768</td>\n",
       "      <td>Kebab, Fast Food</td>\n",
       "      <td>$10.00</td>\n",
       "      <td>50.0</td>\n",
       "      <td>-</td>\n",
       "      <td>-</td>\n",
       "      <td>-</td>\n",
       "      <td>30</td>\n",
       "    </tr>\n",
       "  </tbody>\n",
       "</table>\n",
       "<p>1351 rows × 10 columns</p>\n",
       "</div>"
      ],
      "text/plain": [
       "     Restaurant   Latitude  Longitude  \\\n",
       "0       ID_6321  39.262605 -85.837372   \n",
       "1       ID_2882  39.775933 -85.740581   \n",
       "3       ID_5929  39.029841 -85.332050   \n",
       "5       ID_5221  39.370441 -85.739516   \n",
       "6       ID_3777  39.821806 -85.005577   \n",
       "...         ...        ...        ...   \n",
       "2013    ID_5794  39.764745 -85.121567   \n",
       "2014    ID_4366  39.624978 -85.189212   \n",
       "2015     ID_319  39.133719 -85.503020   \n",
       "2016    ID_3104  39.662987 -85.950894   \n",
       "2017    ID_4396  39.301765 -85.662768   \n",
       "\n",
       "                                      Cuisines Average_Cost  Minimum_Order  \\\n",
       "0       Fast Food, Rolls, Burger, Salad, Wraps       $20.00           50.0   \n",
       "1                          Ice Cream, Desserts       $10.00           50.0   \n",
       "3               Mughlai, North Indian, Chinese       $25.00           99.0   \n",
       "5          South Indian, North Indian, Chinese       $15.00           50.0   \n",
       "6                         Beverages, Fast Food       $15.00           50.0   \n",
       "...                                        ...          ...            ...   \n",
       "2013                                   Bengali       $20.00           50.0   \n",
       "2014  North Indian, Pizza, Burger, Continental       $40.00            0.0   \n",
       "2015                            Awadhi, Bihari       $40.00           99.0   \n",
       "2016                      Fast Food, Beverages       $10.00           50.0   \n",
       "2017                          Kebab, Fast Food       $10.00           50.0   \n",
       "\n",
       "     Rating Votes Reviews  Cook_Time  \n",
       "0       3.5    12       4         30  \n",
       "1       3.5    11       4         30  \n",
       "3       3.7   176      95         30  \n",
       "5       3.8    46      18         30  \n",
       "6       3.7   108      31         30  \n",
       "...     ...   ...     ...        ...  \n",
       "2013    3.3    16       6         30  \n",
       "2014      -     -       -         30  \n",
       "2015    4.1   118      91         30  \n",
       "2016    NEW     -       -         30  \n",
       "2017      -     -       -         30  \n",
       "\n",
       "[1351 rows x 10 columns]"
      ]
     },
     "execution_count": 29,
     "metadata": {},
     "output_type": "execute_result"
    }
   ],
   "source": [
    "fastest"
   ]
  },
  {
   "cell_type": "code",
   "execution_count": 30,
   "metadata": {},
   "outputs": [
    {
     "name": "stderr",
     "output_type": "stream",
     "text": [
      "/Users/cdu2620/anaconda3/lib/python3.7/site-packages/ipykernel_launcher.py:2: SettingWithCopyWarning: \n",
      "A value is trying to be set on a copy of a slice from a DataFrame.\n",
      "Try using .loc[row_indexer,col_indexer] = value instead\n",
      "\n",
      "See the caveats in the documentation: https://pandas.pydata.org/pandas-docs/stable/user_guide/indexing.html#returning-a-view-versus-a-copy\n",
      "  \n"
     ]
    }
   ],
   "source": [
    "fastest_votes = fastest.loc[fastest['Votes'] != '-']\n",
    "fastest_votes['Votes'] = fastest_votes['Votes'].astype(float)"
   ]
  },
  {
   "cell_type": "code",
   "execution_count": 49,
   "metadata": {},
   "outputs": [
    {
     "data": {
      "text/plain": [
       "<matplotlib.axes._subplots.AxesSubplot at 0x7fee763d8cd0>"
      ]
     },
     "execution_count": 49,
     "metadata": {},
     "output_type": "execute_result"
    },
    {
     "data": {
      "image/png": "[encoded data removed]",
      "text/plain": [
       "<Figure size 1008x504 with 1 Axes>"
      ]
     },
     "metadata": {
      "needs_background": "light"
     },
     "output_type": "display_data"
    }
   ],
   "source": [
    "f, axis = plt.subplots(figsize=(14, 7))\n",
    "sns.countplot(x='Minimum_Order', data=fastest_votes)"
   ]
  },
  {
   "cell_type": "code",
   "execution_count": 32,
   "metadata": {},
   "outputs": [
    {
     "data": {
      "text/plain": [
       "50.802"
      ]
     },
     "execution_count": 32,
     "metadata": {},
     "output_type": "execute_result"
    }
   ],
   "source": [
    "fastest_votes['Minimum_Order'].mean()"
   ]
  },
  {
   "cell_type": "code",
   "execution_count": 33,
   "metadata": {},
   "outputs": [
    {
     "data": {
      "text/plain": [
       "139.723"
      ]
     },
     "execution_count": 33,
     "metadata": {},
     "output_type": "execute_result"
    }
   ],
   "source": [
    "fastest_votes['Votes'].mean()"
   ]
  },
  {
   "cell_type": "code",
   "execution_count": 34,
   "metadata": {},
   "outputs": [],
   "source": [
    "fastest_ratings = fastest.loc[fastest['Rating'] != '-']\n",
    "fastest_ratings = fastest_ratings.loc[fastest_ratings['Rating'] != 'NEW']\n",
    "fastest_ratings = fastest_ratings.loc[fastest_ratings['Rating'] != 'Opening Soon']\n",
    "fastest_ratings['Rating'] = fastest_ratings['Rating'].astype(float)"
   ]
  },
  {
   "cell_type": "code",
   "execution_count": 35,
   "metadata": {},
   "outputs": [
    {
     "data": {
      "text/plain": [
       "3.544195121951218"
      ]
     },
     "execution_count": 35,
     "metadata": {},
     "output_type": "execute_result"
    }
   ],
   "source": [
    "fastest_ratings['Rating'].mean()"
   ]
  },
  {
   "cell_type": "code",
   "execution_count": 36,
   "metadata": {},
   "outputs": [
    {
     "data": {
      "text/plain": [
       "<matplotlib.axes._subplots.AxesSubplot at 0x7fee75ae0310>"
      ]
     },
     "execution_count": 36,
     "metadata": {},
     "output_type": "execute_result"
    },
    {
     "data": {
      "image/png": "[encoded data removed]",
      "text/plain": [
       "<Figure size 1008x504 with 1 Axes>"
      ]
     },
     "metadata": {
      "needs_background": "light"
     },
     "output_type": "display_data"
    }
   ],
   "source": [
    "f, axis = plt.subplots(figsize=(14, 7))\n",
    "sns.countplot(x='Minimum_Order', data=fastest_ratings)"
   ]
  },
  {
   "cell_type": "code",
   "execution_count": 37,
   "metadata": {},
   "outputs": [
    {
     "data": {
      "text/plain": [
       "50.781463414634146"
      ]
     },
     "execution_count": 37,
     "metadata": {},
     "output_type": "execute_result"
    }
   ],
   "source": [
    "fastest_ratings['Minimum_Order'].mean()"
   ]
  },
  {
   "cell_type": "code",
   "execution_count": 38,
   "metadata": {},
   "outputs": [
    {
     "data": {
      "text/html": [
       "<div>\n",
       "<style scoped>\n",
       "    .dataframe tbody tr th:only-of-type {\n",
       "        vertical-align: middle;\n",
       "    }\n",
       "\n",
       "    .dataframe tbody tr th {\n",
       "        vertical-align: top;\n",
       "    }\n",
       "\n",
       "    .dataframe thead th {\n",
       "        text-align: right;\n",
       "    }\n",
       "</style>\n",
       "<table border=\"1\" class=\"dataframe\">\n",
       "  <thead>\n",
       "    <tr style=\"text-align: right;\">\n",
       "      <th></th>\n",
       "      <th>Restaurant</th>\n",
       "      <th>Latitude</th>\n",
       "      <th>Longitude</th>\n",
       "      <th>Cuisines</th>\n",
       "      <th>Average_Cost</th>\n",
       "      <th>Minimum_Order</th>\n",
       "      <th>Rating</th>\n",
       "      <th>Votes</th>\n",
       "      <th>Reviews</th>\n",
       "      <th>Cook_Time</th>\n",
       "    </tr>\n",
       "  </thead>\n",
       "  <tbody>\n",
       "    <tr>\n",
       "      <th>0</th>\n",
       "      <td>ID_6321</td>\n",
       "      <td>39.262605</td>\n",
       "      <td>-85.837372</td>\n",
       "      <td>Fast Food, Rolls, Burger, Salad, Wraps</td>\n",
       "      <td>$20.00</td>\n",
       "      <td>50.0</td>\n",
       "      <td>3.5</td>\n",
       "      <td>12</td>\n",
       "      <td>4</td>\n",
       "      <td>30</td>\n",
       "    </tr>\n",
       "    <tr>\n",
       "      <th>1</th>\n",
       "      <td>ID_2882</td>\n",
       "      <td>39.775933</td>\n",
       "      <td>-85.740581</td>\n",
       "      <td>Ice Cream, Desserts</td>\n",
       "      <td>$10.00</td>\n",
       "      <td>50.0</td>\n",
       "      <td>3.5</td>\n",
       "      <td>11</td>\n",
       "      <td>4</td>\n",
       "      <td>30</td>\n",
       "    </tr>\n",
       "    <tr>\n",
       "      <th>2</th>\n",
       "      <td>ID_1595</td>\n",
       "      <td>39.253436</td>\n",
       "      <td>-85.123779</td>\n",
       "      <td>Italian, Street Food, Fast Food</td>\n",
       "      <td>$15.00</td>\n",
       "      <td>50.0</td>\n",
       "      <td>3.6</td>\n",
       "      <td>99</td>\n",
       "      <td>30</td>\n",
       "      <td>65</td>\n",
       "    </tr>\n",
       "    <tr>\n",
       "      <th>5</th>\n",
       "      <td>ID_5221</td>\n",
       "      <td>39.370441</td>\n",
       "      <td>-85.739516</td>\n",
       "      <td>South Indian, North Indian, Chinese</td>\n",
       "      <td>$15.00</td>\n",
       "      <td>50.0</td>\n",
       "      <td>3.8</td>\n",
       "      <td>46</td>\n",
       "      <td>18</td>\n",
       "      <td>30</td>\n",
       "    </tr>\n",
       "    <tr>\n",
       "      <th>6</th>\n",
       "      <td>ID_3777</td>\n",
       "      <td>39.821806</td>\n",
       "      <td>-85.005577</td>\n",
       "      <td>Beverages, Fast Food</td>\n",
       "      <td>$15.00</td>\n",
       "      <td>50.0</td>\n",
       "      <td>3.7</td>\n",
       "      <td>108</td>\n",
       "      <td>31</td>\n",
       "      <td>30</td>\n",
       "    </tr>\n",
       "    <tr>\n",
       "      <th>...</th>\n",
       "      <td>...</td>\n",
       "      <td>...</td>\n",
       "      <td>...</td>\n",
       "      <td>...</td>\n",
       "      <td>...</td>\n",
       "      <td>...</td>\n",
       "      <td>...</td>\n",
       "      <td>...</td>\n",
       "      <td>...</td>\n",
       "      <td>...</td>\n",
       "    </tr>\n",
       "    <tr>\n",
       "      <th>2013</th>\n",
       "      <td>ID_5794</td>\n",
       "      <td>39.764745</td>\n",
       "      <td>-85.121567</td>\n",
       "      <td>Bengali</td>\n",
       "      <td>$20.00</td>\n",
       "      <td>50.0</td>\n",
       "      <td>3.3</td>\n",
       "      <td>16</td>\n",
       "      <td>6</td>\n",
       "      <td>30</td>\n",
       "    </tr>\n",
       "    <tr>\n",
       "      <th>2014</th>\n",
       "      <td>ID_4366</td>\n",
       "      <td>39.624978</td>\n",
       "      <td>-85.189212</td>\n",
       "      <td>North Indian, Pizza, Burger, Continental</td>\n",
       "      <td>$40.00</td>\n",
       "      <td>0.0</td>\n",
       "      <td>-</td>\n",
       "      <td>-</td>\n",
       "      <td>-</td>\n",
       "      <td>30</td>\n",
       "    </tr>\n",
       "    <tr>\n",
       "      <th>2016</th>\n",
       "      <td>ID_3104</td>\n",
       "      <td>39.662987</td>\n",
       "      <td>-85.950894</td>\n",
       "      <td>Fast Food, Beverages</td>\n",
       "      <td>$10.00</td>\n",
       "      <td>50.0</td>\n",
       "      <td>NEW</td>\n",
       "      <td>-</td>\n",
       "      <td>-</td>\n",
       "      <td>30</td>\n",
       "    </tr>\n",
       "    <tr>\n",
       "      <th>2017</th>\n",
       "      <td>ID_4396</td>\n",
       "      <td>39.301765</td>\n",
       "      <td>-85.662768</td>\n",
       "      <td>Kebab, Fast Food</td>\n",
       "      <td>$10.00</td>\n",
       "      <td>50.0</td>\n",
       "      <td>-</td>\n",
       "      <td>-</td>\n",
       "      <td>-</td>\n",
       "      <td>30</td>\n",
       "    </tr>\n",
       "    <tr>\n",
       "      <th>2018</th>\n",
       "      <td>ID_8403</td>\n",
       "      <td>39.460944</td>\n",
       "      <td>-85.484355</td>\n",
       "      <td>Desserts, Beverages</td>\n",
       "      <td>$150.00</td>\n",
       "      <td>50.0</td>\n",
       "      <td>4.1</td>\n",
       "      <td>271</td>\n",
       "      <td>172</td>\n",
       "      <td>45</td>\n",
       "    </tr>\n",
       "  </tbody>\n",
       "</table>\n",
       "<p>1881 rows × 10 columns</p>\n",
       "</div>"
      ],
      "text/plain": [
       "     Restaurant   Latitude  Longitude  \\\n",
       "0       ID_6321  39.262605 -85.837372   \n",
       "1       ID_2882  39.775933 -85.740581   \n",
       "2       ID_1595  39.253436 -85.123779   \n",
       "5       ID_5221  39.370441 -85.739516   \n",
       "6       ID_3777  39.821806 -85.005577   \n",
       "...         ...        ...        ...   \n",
       "2013    ID_5794  39.764745 -85.121567   \n",
       "2014    ID_4366  39.624978 -85.189212   \n",
       "2016    ID_3104  39.662987 -85.950894   \n",
       "2017    ID_4396  39.301765 -85.662768   \n",
       "2018    ID_8403  39.460944 -85.484355   \n",
       "\n",
       "                                      Cuisines Average_Cost  Minimum_Order  \\\n",
       "0       Fast Food, Rolls, Burger, Salad, Wraps       $20.00           50.0   \n",
       "1                          Ice Cream, Desserts       $10.00           50.0   \n",
       "2              Italian, Street Food, Fast Food       $15.00           50.0   \n",
       "5          South Indian, North Indian, Chinese       $15.00           50.0   \n",
       "6                         Beverages, Fast Food       $15.00           50.0   \n",
       "...                                        ...          ...            ...   \n",
       "2013                                   Bengali       $20.00           50.0   \n",
       "2014  North Indian, Pizza, Burger, Continental       $40.00            0.0   \n",
       "2016                      Fast Food, Beverages       $10.00           50.0   \n",
       "2017                          Kebab, Fast Food       $10.00           50.0   \n",
       "2018                       Desserts, Beverages      $150.00           50.0   \n",
       "\n",
       "     Rating Votes Reviews  Cook_Time  \n",
       "0       3.5    12       4         30  \n",
       "1       3.5    11       4         30  \n",
       "2       3.6    99      30         65  \n",
       "5       3.8    46      18         30  \n",
       "6       3.7   108      31         30  \n",
       "...     ...   ...     ...        ...  \n",
       "2013    3.3    16       6         30  \n",
       "2014      -     -       -         30  \n",
       "2016    NEW     -       -         30  \n",
       "2017      -     -       -         30  \n",
       "2018    4.1   271     172         45  \n",
       "\n",
       "[1881 rows x 10 columns]"
      ]
     },
     "execution_count": 38,
     "metadata": {},
     "output_type": "execute_result"
    }
   ],
   "source": [
    "'''Insight 4: Cheapest'''\n",
    "cheapest = data.loc[data['Minimum_Order'] <= 50]\n",
    "cheapest"
   ]
  },
  {
   "cell_type": "code",
   "execution_count": 39,
   "metadata": {},
   "outputs": [],
   "source": [
    "cheapest_ratings = cheapest.loc[cheapest['Rating'] != '-']\n",
    "cheapest_ratings = cheapest_ratings.loc[cheapest_ratings['Rating'] != 'NEW']\n",
    "cheapest_ratings = cheapest_ratings.loc[cheapest_ratings['Rating'] != 'Opening Soon']\n",
    "cheapest_ratings['Rating'] = cheapest_ratings['Rating'].astype(float)"
   ]
  },
  {
   "cell_type": "code",
   "execution_count": 40,
   "metadata": {},
   "outputs": [
    {
     "data": {
      "text/plain": [
       "3.599739073711675"
      ]
     },
     "execution_count": 40,
     "metadata": {},
     "output_type": "execute_result"
    }
   ],
   "source": [
    "cheapest_ratings['Rating'].mean()"
   ]
  },
  {
   "cell_type": "code",
   "execution_count": 42,
   "metadata": {},
   "outputs": [
    {
     "data": {
      "text/plain": [
       "<matplotlib.axes._subplots.AxesSubplot at 0x7fee75de4a50>"
      ]
     },
     "execution_count": 42,
     "metadata": {},
     "output_type": "execute_result"
    },
    {
     "data": {
      "image/png": "[encoded data removed]",
      "text/plain": [
       "<Figure size 1008x504 with 1 Axes>"
      ]
     },
     "metadata": {
      "needs_background": "light"
     },
     "output_type": "display_data"
    }
   ],
   "source": [
    "f, axis = plt.subplots(figsize=(14, 7))\n",
    "sns.countplot(x='Cook_Time', data=cheapest_ratings)"
   ]
  },
  {
   "cell_type": "code",
   "execution_count": 41,
   "metadata": {},
   "outputs": [
    {
     "data": {
      "text/plain": [
       "37.11350293542074"
      ]
     },
     "execution_count": 41,
     "metadata": {},
     "output_type": "execute_result"
    }
   ],
   "source": [
    "cheapest_ratings['Cook_Time'].mean()"
   ]
  },
  {
   "cell_type": "code",
   "execution_count": 43,
   "metadata": {},
   "outputs": [
    {
     "name": "stderr",
     "output_type": "stream",
     "text": [
      "/Users/cdu2620/anaconda3/lib/python3.7/site-packages/ipykernel_launcher.py:2: SettingWithCopyWarning: \n",
      "A value is trying to be set on a copy of a slice from a DataFrame.\n",
      "Try using .loc[row_indexer,col_indexer] = value instead\n",
      "\n",
      "See the caveats in the documentation: https://pandas.pydata.org/pandas-docs/stable/user_guide/indexing.html#returning-a-view-versus-a-copy\n",
      "  \n"
     ]
    }
   ],
   "source": [
    "cheapest_votes = cheapest.loc[cheapest['Votes'] != '-']\n",
    "cheapest_votes['Votes'] = cheapest_votes['Votes'].astype(float)"
   ]
  },
  {
   "cell_type": "code",
   "execution_count": 44,
   "metadata": {},
   "outputs": [
    {
     "data": {
      "text/plain": [
       "234.45653616456536"
      ]
     },
     "execution_count": 44,
     "metadata": {},
     "output_type": "execute_result"
    }
   ],
   "source": [
    "cheapest_votes['Votes'].mean()"
   ]
  },
  {
   "cell_type": "code",
   "execution_count": 46,
   "metadata": {},
   "outputs": [
    {
     "data": {
      "text/plain": [
       "<matplotlib.axes._subplots.AxesSubplot at 0x7fee760306d0>"
      ]
     },
     "execution_count": 46,
     "metadata": {},
     "output_type": "execute_result"
    },
    {
     "data": {
      "image/png": "[encoded data removed]",
      "text/plain": [
       "<Figure size 1008x504 with 1 Axes>"
      ]
     },
     "metadata": {
      "needs_background": "light"
     },
     "output_type": "display_data"
    }
   ],
   "source": [
    "f, axis = plt.subplots(figsize=(14, 7))\n",
    "sns.countplot(x='Cook_Time', data=cheapest_votes)"
   ]
  },
  {
   "cell_type": "code",
   "execution_count": 45,
   "metadata": {},
   "outputs": [
    {
     "data": {
      "text/plain": [
       "37.21632382216324"
      ]
     },
     "execution_count": 45,
     "metadata": {},
     "output_type": "execute_result"
    }
   ],
   "source": [
    "cheapest_votes['Cook_Time'].mean()"
   ]
  },
  {
   "cell_type": "code",
   "execution_count": 47,
   "metadata": {},
   "outputs": [
    {
     "data": {
      "text/plain": [
       "'\\nWith this analysis, I tried to determine what was a better metric of quality: a better rating, or more votes. I also\\nanalyzed some restaurant information of the best rated and most voted restaurants. Interestingly, the restaurants\\nclassified as \"top\" by rating would not have been classified as \"top\" by number of votes, and vice versa, although\\ntheir average ratings and votes were still far above the average for all restaurants. The range of minimum\\norder price of the top restaurants (both best rated and most voted) was around $50-99 - a middle-level cost. \\nA lot of the higher-rated restaurants served primarily Asian food, but the restaurants with the most food \\nwere multicultural. This makes sense based on my own personal experience - people tend to like Asian cuisine\\na lot, but multicultural restaurants get more exposure that lead to more votes.\\n\\nNext, I tried to see whether attempts to make steps of the food delivery process more appealing,\\nsuch as lowering cook time and lowering the price of the min order, led to a decrease in quality perceived by the \\ncustomers of the restaurants. We\\'ve all been in situations where we just wanted to pick the cheapest or the \\nfastest option, but as a result, our dining experience may not have been as enjoyable. The restaurants with the \\nfastest cook time also turned out to be slightly cheaper than average, with an min order of $50. However, \\nit turned out the inverse wasn\\'t necessarily true - that cheaper restaurants didn\\'t have a shorter cook time \\nthan average. Either way, the rating and number of votes for both the cheapest and the quickest restaurants \\nwere lower than average. This goes to show that customers care more about the quality of the food \\nthan the price or delivery time, so restaurants may as well increase prices to draw in customers.\\n\\n\\n\\n'"
      ]
     },
     "execution_count": 47,
     "metadata": {},
     "output_type": "execute_result"
    }
   ],
   "source": [
    "'''\n",
    "With this analysis, I tried to determine what was a better metric of quality: a better rating, or more votes. I also\n",
    "analyzed some restaurant information of the best rated and most voted restaurants. Interestingly, the restaurants\n",
    "classified as \"top\" by rating would not have been classified as \"top\" by number of votes, and vice versa, although\n",
    "their average ratings and votes were still far above the average for all restaurants. The range of minimum\n",
    "order price of the top restaurants (both best rated and most voted) was around $50-99 - a middle-level cost. \n",
    "A lot of the higher-rated restaurants served primarily Asian food, but the restaurants with the most food \n",
    "were multicultural. This makes sense based on my own personal experience - people tend to like Asian cuisine\n",
    "a lot, but multicultural restaurants get more exposure that lead to more votes.\n",
    "\n",
    "Next, I tried to see whether attempts to make steps of the food delivery process more appealing,\n",
    "such as lowering cook time and lowering the price of the min order, led to a decrease in quality perceived by the \n",
    "customers of the restaurants. We've all been in situations where we just wanted to pick the cheapest or the \n",
    "fastest option, but as a result, our dining experience may not have been as enjoyable. The restaurants with the \n",
    "fastest cook time also turned out to be slightly cheaper than average, with an min order of $50. However, \n",
    "it turned out the inverse wasn't necessarily true - that cheaper restaurants didn't have a shorter cook time \n",
    "than average. Either way, the rating and number of votes for both the cheapest and the quickest restaurants \n",
    "were lower than average. This goes to show that customers care more about the quality of the food \n",
    "than the price or delivery time, so restaurants may as well increase prices to draw in customers.\n",
    "\n",
    "\n",
    "\n",
    "'''"
   ]
  }
 ],
 "metadata": {
  "kernelspec": {
   "display_name": "Python 3",
   "language": "python",
   "name": "python3"
  },
  "language_info": {
   "codemirror_mode": {
    "name": "ipython",
    "version": 3
   },
   "file_extension": ".py",
   "mimetype": "text/x-python",
   "name": "python",
   "nbconvert_exporter": "python",
   "pygments_lexer": "ipython3",
   "version": "3.7.6"
  }
 },
 "nbformat": 4,
 "nbformat_minor": 4
}
